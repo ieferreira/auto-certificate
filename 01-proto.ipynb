{
 "cells": [
  {
   "cell_type": "code",
   "execution_count": null,
   "metadata": {},
   "outputs": [],
   "source": [
    "import pandas as pd\n",
    "\n",
    "df = pd.read_excel(\"CCDM-Formulario de inscripción.xlsx\")\n",
    "df.head()"
   ]
  },
  {
   "cell_type": "code",
   "execution_count": null,
   "metadata": {},
   "outputs": [],
   "source": [
    "#function to join columns if column is not null\n",
    "def sjoin(x): return ';'.join(x[x.notnull()].astype(str))\n",
    "\n",
    "#function to ignore the suffix on the column e.g. a.1, a.2 will be grouped together\n",
    "def groupby_field(col):\n",
    "    parts = col.split('.')\n",
    "    return '{}'.format(parts[0])\n",
    "\n",
    "df = df.groupby(groupby_field, axis=1,).apply(lambda x: x.apply(sjoin, axis=1))"
   ]
  },
  {
   "cell_type": "code",
   "execution_count": null,
   "metadata": {},
   "outputs": [],
   "source": [
    "df_final = df[[\"Nombres y apellidos\", \"DNI (Cedula o T\", \"Dirección de correo electrónico\"]]\n",
    "df_final = df_final.rename(columns={'Nombres y apellidos': 'NOMBRES', 'DNI (Cedula o T': 'DNI', \"Dirección de correo electrónico\": \"CORREO\"})\n",
    "df_final\n"
   ]
  },
  {
   "cell_type": "code",
   "execution_count": null,
   "metadata": {},
   "outputs": [],
   "source": [
    "def format_asistance(i=1):\n",
    "    df_asis = pd.read_excel(f\"CCDM-Asistencia-{i}.xlsx\")\n",
    "    df_asis = df_asis.rename(columns={'Nombre(s) y apellidos COMPLETOS.': \"NOMBRES\", \"Dirección de correo electrónico\": \"CORREO\"})\n",
    "    df_asis\n",
    "    return df_asis\n",
    "\n",
    "df_1 = format_asistance(i=1)\n",
    "df_2 = format_asistance(i=2)\n",
    "\n",
    "\n"
   ]
  },
  {
   "cell_type": "code",
   "execution_count": null,
   "metadata": {},
   "outputs": [],
   "source": [
    "df_final = df_final.assign(ASIS=df_final.CORREO.isin(df_1.CORREO).astype(int)+df_final.CORREO.isin(df_2.CORREO).astype(int))\n",
    "\n",
    "df_final\n",
    "\n",
    "\n"
   ]
  },
  {
   "cell_type": "code",
   "execution_count": null,
   "metadata": {},
   "outputs": [],
   "source": [
    "df_final"
   ]
  },
  {
   "cell_type": "code",
   "execution_count": null,
   "metadata": {},
   "outputs": [],
   "source": []
  },
  {
   "cell_type": "code",
   "execution_count": null,
   "metadata": {},
   "outputs": [],
   "source": [
    "df_asis2 = pd.read_excel(\"CCDM-Asistencia-2.xlsx\")\n",
    "df_asis2"
   ]
  },
  {
   "cell_type": "code",
   "execution_count": null,
   "metadata": {},
   "outputs": [],
   "source": [
    "df_asis1 = pd.read_excel(\"CCDM-Asistencia-1.xlsx\")\n",
    "df_asis1"
   ]
  },
  {
   "cell_type": "code",
   "execution_count": null,
   "metadata": {},
   "outputs": [],
   "source": []
  }
 ],
 "metadata": {
  "kernelspec": {
   "display_name": "Python 3",
   "language": "python",
   "name": "python3"
  },
  "language_info": {
   "codemirror_mode": {
    "name": "ipython",
    "version": 3
   },
   "file_extension": ".py",
   "mimetype": "text/x-python",
   "name": "python",
   "nbconvert_exporter": "python",
   "pygments_lexer": "ipython3",
   "version": "3.8.5"
  }
 },
 "nbformat": 4,
 "nbformat_minor": 4
}
